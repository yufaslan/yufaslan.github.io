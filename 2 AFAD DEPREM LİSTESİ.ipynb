{
 "cells": [
  {
   "cell_type": "code",
   "execution_count": 5,
   "metadata": {
    "colab": {
     "base_uri": "https://localhost:8080/",
     "height": 357
    },
    "executionInfo": {
     "elapsed": 1689,
     "status": "ok",
     "timestamp": 1676720446805,
     "user": {
      "displayName": "YUNUS ASLAN",
      "userId": "16860703336270155870"
     },
     "user_tz": -180
    },
    "id": "yAWCEagOPv9T",
    "outputId": "d64eca2c-a851-4271-dbfb-f1ebfa631154"
   },
   "outputs": [
    {
     "data": {
      "text/html": [
       "<div>\n",
       "<style scoped>\n",
       "    .dataframe tbody tr th:only-of-type {\n",
       "        vertical-align: middle;\n",
       "    }\n",
       "\n",
       "    .dataframe tbody tr th {\n",
       "        vertical-align: top;\n",
       "    }\n",
       "\n",
       "    .dataframe thead th {\n",
       "        text-align: right;\n",
       "    }\n",
       "</style>\n",
       "<table border=\"1\" class=\"dataframe\">\n",
       "  <thead>\n",
       "    <tr style=\"text-align: right;\">\n",
       "      <th></th>\n",
       "      <th>index</th>\n",
       "      <th>Tarih(TS)</th>\n",
       "      <th>Yer</th>\n",
       "      <th>Büyüklük</th>\n",
       "      <th>Tip</th>\n",
       "    </tr>\n",
       "  </thead>\n",
       "  <tbody>\n",
       "    <tr>\n",
       "      <th>0</th>\n",
       "      <td>4</td>\n",
       "      <td>2023-03-14 17:49:47</td>\n",
       "      <td>Çağlayancerit (Kahramanmaraş)</td>\n",
       "      <td>4.9</td>\n",
       "      <td>MW</td>\n",
       "    </tr>\n",
       "    <tr>\n",
       "      <th>1</th>\n",
       "      <td>63</td>\n",
       "      <td>2023-03-14 14:57:56</td>\n",
       "      <td>Saimbeyli (Adana)</td>\n",
       "      <td>3.8</td>\n",
       "      <td>ML</td>\n",
       "    </tr>\n",
       "    <tr>\n",
       "      <th>2</th>\n",
       "      <td>74</td>\n",
       "      <td>2023-03-14 14:33:23</td>\n",
       "      <td>Göksun (Kahramanmaraş)</td>\n",
       "      <td>3.7</td>\n",
       "      <td>ML</td>\n",
       "    </tr>\n",
       "    <tr>\n",
       "      <th>3</th>\n",
       "      <td>1</td>\n",
       "      <td>2023-03-14 18:07:30</td>\n",
       "      <td>Onikişubat (Kahramanmaraş)</td>\n",
       "      <td>3.2</td>\n",
       "      <td>ML</td>\n",
       "    </tr>\n",
       "    <tr>\n",
       "      <th>4</th>\n",
       "      <td>69</td>\n",
       "      <td>2023-03-14 14:44:35</td>\n",
       "      <td>Akdeniz - İskenderun Körfezi - [02.83 km] Paya...</td>\n",
       "      <td>2.9</td>\n",
       "      <td>ML</td>\n",
       "    </tr>\n",
       "  </tbody>\n",
       "</table>\n",
       "</div>"
      ],
      "text/plain": [
       "   index            Tarih(TS)  \\\n",
       "0      4  2023-03-14 17:49:47   \n",
       "1     63  2023-03-14 14:57:56   \n",
       "2     74  2023-03-14 14:33:23   \n",
       "3      1  2023-03-14 18:07:30   \n",
       "4     69  2023-03-14 14:44:35   \n",
       "\n",
       "                                                 Yer  Büyüklük Tip  \n",
       "0                      Çağlayancerit (Kahramanmaraş)       4.9  MW  \n",
       "1                                  Saimbeyli (Adana)       3.8  ML  \n",
       "2                             Göksun (Kahramanmaraş)       3.7  ML  \n",
       "3                         Onikişubat (Kahramanmaraş)       3.2  ML  \n",
       "4  Akdeniz - İskenderun Körfezi - [02.83 km] Paya...       2.9  ML  "
      ]
     },
     "execution_count": 5,
     "metadata": {},
     "output_type": "execute_result"
    }
   ],
   "source": [
    "import datetime,os\n",
    "import pandas as pd\n",
    "\n",
    "\n",
    "#*************************************************\n",
    "#PANDAS PANDAS PANDAS\n",
    "#*************************************************\n",
    "#-----------------------------------------\n",
    "#url = pd.read_html('http://www.koeri.boun.edu.tr/scripts/lst7.asp')\n",
    "url = pd.read_html('https://deprem.afad.gov.tr/last-earthquakes.html')\n",
    "\n",
    "df = url[0] \n",
    "\n",
    "#-----------------------------------------\n",
    "#*************************************************\n",
    "#ESKİ KOD ÖRNEKLERİ\n",
    "#df.drop(0, inplace=True)\n",
    "#df.columns = df.iloc[0] #satırı header yapıyor\n",
    "#*************************************************\n",
    "\n",
    "#df.tail()\n",
    "drive_yol='/'\n",
    "drive_ad='AFAD DEPREM.xlsx'\n",
    "drive_tam='{}{}'.format(drive_yol,drive_ad)\n",
    "\n",
    "df.sort_values('Büyüklük',ascending=False,inplace=True)\n",
    "\n",
    "df2=df[['Tarih(TS)','Yer','Büyüklük','Tip']]\n",
    "\n",
    "#df2.reset_index(inplace=True)\n",
    "#df2.drop('index', axis=1, inplace=True)\n",
    "\n",
    "df2.to_excel(drive_tam, sheet_name='SAYFAM', index=False)\n",
    "\n",
    "df2.head(5)"
   ]
  },
  {
   "cell_type": "code",
   "execution_count": null,
   "metadata": {},
   "outputs": [],
   "source": []
  }
 ],
 "metadata": {
  "colab": {
   "authorship_tag": "ABX9TyPukefq7l0FtDu7YuHCIZve",
   "mount_file_id": "1Qa6OIZjE3ZZJm3fk_LaI0oS7j6h6RfXs",
   "provenance": []
  },
  "kernelspec": {
   "display_name": "Python 3",
   "language": "python",
   "name": "python3"
  },
  "language_info": {
   "codemirror_mode": {
    "name": "ipython",
    "version": 3
   },
   "file_extension": ".py",
   "mimetype": "text/x-python",
   "name": "python",
   "nbconvert_exporter": "python",
   "pygments_lexer": "ipython3",
   "version": "3.8.6"
  }
 },
 "nbformat": 4,
 "nbformat_minor": 1
}
